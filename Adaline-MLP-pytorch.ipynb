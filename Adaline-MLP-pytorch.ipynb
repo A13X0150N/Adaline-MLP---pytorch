{
  "nbformat": 4,
  "nbformat_minor": 0,
  "metadata": {
    "colab": {
      "name": "HW01_P5_P6_AlexOlson.ipynb",
      "provenance": [],
      "collapsed_sections": []
    },
    "kernelspec": {
      "name": "python3",
      "display_name": "Python 3"
    }
  },
  "cells": [
    {
      "cell_type": "code",
      "metadata": {
        "id": "a_sE_hQZeQfp",
        "colab_type": "code",
        "colab": {}
      },
      "source": [
        "%matplotlib inline\n",
        "import numpy as np\n",
        "import random\n",
        "import matplotlib\n",
        "import matplotlib.pyplot as plt\n",
        "import torch\n",
        "import torch.nn as nn\n",
        "import torch.optim as optim\n",
        "import torch.nn.functional as F\n",
        "from torch.autograd import Variable\n",
        "plt.ion()"
      ],
      "execution_count": 0,
      "outputs": []
    },
    {
      "cell_type": "markdown",
      "metadata": {
        "id": "NOy3wB1yRmxP",
        "colab_type": "text"
      },
      "source": [
        "**Problem 5**\n",
        "\n",
        "Part (a)"
      ]
    },
    {
      "cell_type": "code",
      "metadata": {
        "id": "mAMfyE8d5AOm",
        "colab_type": "code",
        "outputId": "ba485fbf-0805-493b-85f2-f26f6c690f20",
        "colab": {
          "base_uri": "https://localhost:8080/",
          "height": 146
        }
      },
      "source": [
        "w = torch.tensor([[[2., 2.],[2., 2.]],[[2., 2.],[2., 2.]]], requires_grad=True)\n",
        "print(f'\\nw: 2*2*2 tensor initialized to 2.0: \\n{w}')"
      ],
      "execution_count": 0,
      "outputs": [
        {
          "output_type": "stream",
          "text": [
            "\n",
            "w: 2*2*2 tensor initialized to 2.0: \n",
            "tensor([[[2., 2.],\n",
            "         [2., 2.]],\n",
            "\n",
            "        [[2., 2.],\n",
            "         [2., 2.]]], requires_grad=True)\n"
          ],
          "name": "stdout"
        }
      ]
    },
    {
      "cell_type": "markdown",
      "metadata": {
        "id": "iXAhUdh0S_Ga",
        "colab_type": "text"
      },
      "source": [
        "Part (b)"
      ]
    },
    {
      "cell_type": "code",
      "metadata": {
        "id": "voNB0KnaS-RI",
        "colab_type": "code",
        "outputId": "75b2a434-95fb-467e-b9ca-226149b58845",
        "colab": {
          "base_uri": "https://localhost:8080/",
          "height": 460
        }
      },
      "source": [
        "x = w/3\n",
        "print(f'\\nx = w/3 \\n{x}')\n",
        "y = x.pow(3)\n",
        "print(f'\\ny = x^3 \\n{y}')\n",
        "z = y.sqrt()\n",
        "print(f'\\nz = sqrt(y) \\n{z}')\n",
        "out = z.mean()\n",
        "print(f'\\nout = mean(z) \\n{out}')"
      ],
      "execution_count": 0,
      "outputs": [
        {
          "output_type": "stream",
          "text": [
            "\n",
            "x = w/3 \n",
            "tensor([[[0.6667, 0.6667],\n",
            "         [0.6667, 0.6667]],\n",
            "\n",
            "        [[0.6667, 0.6667],\n",
            "         [0.6667, 0.6667]]], grad_fn=<DivBackward0>)\n",
            "\n",
            "y = x^3 \n",
            "tensor([[[0.2963, 0.2963],\n",
            "         [0.2963, 0.2963]],\n",
            "\n",
            "        [[0.2963, 0.2963],\n",
            "         [0.2963, 0.2963]]], grad_fn=<PowBackward0>)\n",
            "\n",
            "z = sqrt(y) \n",
            "tensor([[[0.5443, 0.5443],\n",
            "         [0.5443, 0.5443]],\n",
            "\n",
            "        [[0.5443, 0.5443],\n",
            "         [0.5443, 0.5443]]], grad_fn=<SqrtBackward>)\n",
            "\n",
            "out = mean(z) \n",
            "0.5443310737609863\n"
          ],
          "name": "stdout"
        }
      ]
    },
    {
      "cell_type": "markdown",
      "metadata": {
        "id": "nGE_PLKWTftD",
        "colab_type": "text"
      },
      "source": [
        "The gradient functions that are being tracked beginning with the output are:\n",
        "\n",
        "mean <- square root <- power$^3$ <- division\n",
        "\n"
      ]
    },
    {
      "cell_type": "markdown",
      "metadata": {
        "id": "a6Vz1us5UILJ",
        "colab_type": "text"
      },
      "source": [
        "Part (c)"
      ]
    },
    {
      "cell_type": "code",
      "metadata": {
        "id": "7vboKx9vUJ_c",
        "colab_type": "code",
        "outputId": "3cb0d744-5e04-476a-c84d-e2067bd4ae39",
        "colab": {
          "base_uri": "https://localhost:8080/",
          "height": 109
        }
      },
      "source": [
        "out.backward()\n",
        "print(w.grad)"
      ],
      "execution_count": 0,
      "outputs": [
        {
          "output_type": "stream",
          "text": [
            "tensor([[[0.0510, 0.0510],\n",
            "         [0.0510, 0.0510]],\n",
            "\n",
            "        [[0.0510, 0.0510],\n",
            "         [0.0510, 0.0510]]])\n"
          ],
          "name": "stdout"
        }
      ]
    },
    {
      "cell_type": "markdown",
      "metadata": {
        "id": "qUhF1oTeUV9Q",
        "colab_type": "text"
      },
      "source": [
        "Part (d)\n",
        "\n",
        "$f(w) = w^{\\frac{1}{2}} \\hspace{1cm} f'(w) = \\frac{1}{2\\sqrt{w}}$\n",
        "\n",
        "$g(w) = w^3 \\hspace{1cm} g'(w) = 3w^2$\n",
        "\n",
        "$h(w) = \\frac{1}{3}w \\hspace{1cm} h'(w) = \\frac{1}{3}$\n",
        "\n",
        "$\\frac{\\partial {out}}{\\partial{w_i}} |_{w_i=2} = (\\frac{1}{N}) \\frac{\\partial {}}{\\partial{w_i}} |_{w_i=2} (f \\circ g \\circ h)(w)$\n",
        "\n",
        "$\\frac{\\partial {out}}{\\partial{w_i}} |_{w_i=2} = (\\frac{1}{N}) f'(g(h(w))) \\cdot g'(h(w)) \\cdot h'(w) $\n",
        "\n",
        "$\\frac{\\partial {out}}{\\partial{w_i}} |_{w_i=2} = (\\frac{1}{N}) \\frac{1}{2\\sqrt{(\\frac{1}{3}w)^3}} \\cdot 3(\\frac{1}{3}w)^2 \\cdot \\frac{1}{3}$\n",
        "\n",
        "$\\frac{\\partial {out}}{\\partial{w_i}} |_{w_i=2} = (\\frac{1}{8}) \\frac{1}{2\\sqrt{(\\frac{1}{3}2)^3}} \\cdot 3(\\frac{1}{3}2)^2 \\cdot \\frac{1}{3}$\n",
        "\n",
        "$\\frac{\\partial {out}}{\\partial{w_i}} |_{w_i=2} = (\\frac{1}{8}) \\frac{3\\sqrt{6}}{8} \\cdot \\frac{4}{3} \\cdot \\frac{1}{3} = \\frac{\\sqrt{6}}{48} \\approx 0.05103$\n",
        "\n",
        "The calculation agrees with the program output."
      ]
    },
    {
      "cell_type": "markdown",
      "metadata": {
        "id": "FDLi1Fe6SNmk",
        "colab_type": "text"
      },
      "source": [
        "**Problem 6**\n",
        "\n",
        "Part (a)\n",
        "\n",
        "$\\hspace{1cm}$ The training set has $25$ data points. I would expect Adaline to to achieve a relatively high amount of error on this dataset because it is not linearly separable with a single perceptron.\n",
        "\n",
        "---\n",
        "\n",
        "Part (b)\n",
        "\n",
        "$\\hspace{1cm}$ When the train.dat data was trained on the Adaline model with only one neuron, an accuracy of $56\\%$ was achieved. This accuracy agrees with my answer from part (a).\n",
        "\n",
        "---\n",
        "\n",
        "Part (c)\n",
        "\n",
        "$\\hspace{1cm}$ tanh(h) is a good choice for the dataset because it makes $E_{in}$ differentiable and the optimizer is able to use stochastic gradient descent in order to find a local minimum.\n",
        "\n",
        "---\n",
        "\n",
        "Part (d)\n",
        "\n",
        "$\\hspace{1cm}$ When training the model for $600$ iterations on the training dataset with $\\eta=0.025$, the loss drops relatively quickly for the first $120$ epochs $(loss=0.97902 \\rightarrow loss=0.01008)$, then slowly reaches a loss of $0.00025$ by epoch $600$. I expected the training to converge to a reasonable error given that the learning rate was near $1.0$ and $600$ steps should be enough for a dataset of 25 points. The final training error was $0.00\\%$. For the test dataset, the final test error was $3.60\\%$. The test dataset had 250 data points, but assuming that $E_{in} \\approx E_{out}$, the $3.60\\%$ error rate demonstrates that a reasonable hypothesis was selected.\n",
        "\n",
        "---\n",
        "\n",
        "Part (e)\n",
        "\n",
        "$\\hspace{1cm}$ When training the model for $200$ iterations on the test dataset with $\\eta=0.0025$, the loss dropped relatively quickly at the beginning and converged to near zero. The error obtained for the training on the test.dat set was $3.20\\%$. The learned weights gave a $0.00\\%$ error on the train.dat dataset. My original thought was that the larger sample size would produce a good hypothesis, but I thought that the smaller $\\eta$ and number of epochs would slow it down, so I was surprised to see that the final error rate was comparable to part (d).\n",
        "\n",
        "---\n",
        "\n",
        "Part (f)\n",
        "\n",
        "$\\hspace{1cm}$ The train.dat data set had $25$ data points and the test.dat dataset had $250$ data points. As stated in part (e), training on a larger data set reduces the probability of error due to the $2e^{-2 \\epsilon^2 N}$ component, where the error bound decreases exponentially as $N$ increases.\n"
      ]
    },
    {
      "cell_type": "code",
      "metadata": {
        "id": "viE60z-HV6We",
        "colab_type": "code",
        "colab": {}
      },
      "source": [
        "def sign(value):\n",
        "    if value >= 0.:\n",
        "        return 1.\n",
        "    else:\n",
        "        return -1.\n",
        "vsign = np.vectorize(sign)\n",
        "\n",
        "def mse(pred, target):\n",
        "    return (pred - target)**2\n",
        "\n",
        "def print_perf(model, data, labels):\n",
        "    \"\"\" Prints the prediction accuracy and error.\n",
        "    data: a training or test dataset.\n",
        "    labels: training or test labels.\n",
        "    \"\"\"\n",
        "    y_hat = model.predict(Variable(torch.Tensor([[[data]]])))\n",
        "    num_correct = ((y_hat.squeeze().reshape(-1,1) - labels) == 0.).sum()\n",
        "    num_total = data.shape[0]\n",
        "    accuracy = num_correct / num_total * 100.\n",
        "    error = 100. - accuracy\n",
        "    print(f'num_correct: {num_correct}   num_total: {num_total}')\n",
        "    print(f'Accuracy = {accuracy: .2f}%, error = {error: .2f}%')"
      ],
      "execution_count": 0,
      "outputs": []
    },
    {
      "cell_type": "code",
      "metadata": {
        "id": "yy1iSzpEI7B9",
        "colab_type": "code",
        "colab": {}
      },
      "source": [
        "# Set up constants\n",
        "d = 2  # The dimensionality\n",
        "SEED = 7 # For reproducibility....\n",
        "np.random.seed(SEED)"
      ],
      "execution_count": 0,
      "outputs": []
    },
    {
      "cell_type": "markdown",
      "metadata": {
        "id": "tox5y3xhWimz",
        "colab_type": "text"
      },
      "source": [
        "Parse the training data set"
      ]
    },
    {
      "cell_type": "code",
      "metadata": {
        "id": "SYSJas3keqbh",
        "colab_type": "code",
        "colab": {}
      },
      "source": [
        "# Set up empty vectors for capturing data from train.dat\n",
        "x0_train = []\n",
        "x1_train = []\n",
        "y_train = []\n",
        "\n",
        "# Open the mapped Google drive and parse the training data\n",
        "#with open('train.dat', 'r') as f:\n",
        "with open('test.dat', 'r') as f:\n",
        "    data = f.readlines()\n",
        "    for N, i in enumerate(data):\n",
        "        row = i.rstrip().lstrip().split(\",\")\n",
        "        for j in row:\n",
        "            num = j.rstrip().lstrip().split(\"  \")\n",
        "            x0_train.append(float(num[0]))\n",
        "            x1_train.append(float(num[1]))\n",
        "            y_train.append(float(num[2]))\n",
        "\n",
        "N += 1 # Adjust for the offset starting at 0\n",
        "\n",
        "# Join the x inputs into a matrix\n",
        "X_train = np.vstack((x0_train, x1_train))\n",
        "X_train = np.vstack((np.ones((1, N)), X_train))  # N points of (d + 1) dimensions, with 1st dim = 1.\n",
        "y_train = np.asarray(y_train).reshape(N, 1)"
      ],
      "execution_count": 0,
      "outputs": []
    },
    {
      "cell_type": "code",
      "metadata": {
        "id": "uAUZmoC4Eu5v",
        "colab_type": "code",
        "outputId": "5b1a97aa-b21b-4d54-b12d-e5e272193cdb",
        "colab": {
          "base_uri": "https://localhost:8080/",
          "height": 281
        }
      },
      "source": [
        "# Categorize the data\n",
        "X_plus = np.asarray([X_train.T[row] for row in range(X_train.T.shape[0]) if y_train[row] > 0])\n",
        "X_minus = np.asarray([X_train.T[row] for row in range(X_train.T.shape[0]) if y_train[row] < 0])\n",
        "\n",
        "# Setting up the matplotlib plot....\n",
        "fig, ax = plt.subplots()\n",
        "ax.plot(X_plus[:, [1]], X_plus[:, [2]], 'ro', label='X Plus')\n",
        "ax.plot(X_minus[:, [1]], X_minus[:, [2]], 'bo', label='X Minus')\n",
        "ax.set_xlim(-1.1, 1.1)\n",
        "ax.set_ylim(-1.1, 1.1)\n",
        "ax.set_title(\"The Training Data\")\n",
        "_ = ax.legend()"
      ],
      "execution_count": 0,
      "outputs": [
        {
          "output_type": "display_data",
          "data": {
            "image/png": "[encoded data removed]",
            "text/plain": [
              "<Figure size 432x288 with 1 Axes>"
            ]
          },
          "metadata": {
            "tags": []
          }
        }
      ]
    },
    {
      "cell_type": "code",
      "metadata": {
        "id": "hLcZwneVVlYx",
        "colab_type": "code",
        "colab": {}
      },
      "source": [
        "class Net(nn.Module):\n",
        "\n",
        "    def __init__(self):\n",
        "        super(Net, self).__init__()\n",
        "        self.fc1 = nn.Linear(2, 2)\n",
        "        self.fc2 = nn.Linear(2, 1)\n",
        "        #self.fc1.weight.data.fill_(0.0)  # Weights initialized to zero for Adaline!\n",
        "        #self.fc2.weight.data.fill_(0.0)\n",
        "        self.fc1.bias.data.fill_(0.0)\n",
        "        self.fc2.bias.data.fill_(0.0)\n",
        "        self.theta = nn.Tanh()\n",
        "\n",
        "    def forward(self, x):\n",
        "        s = self.theta(self.fc1(x))\n",
        "        return self.theta(self.fc2(s))\n",
        "\n",
        "    def _sign(self, x):\n",
        "        return 1. if x >= 0 else -1.\n",
        "        vsign = np.vectorize(self._sign)  # vectorize the function so it can apply elementwise op to array and return array\n",
        "\n",
        "    def predict(self, x):\n",
        "        return vsign(self.forward(x).detach())"
      ],
      "execution_count": 0,
      "outputs": []
    },
    {
      "cell_type": "code",
      "metadata": {
        "id": "PsPAkV7sVmwL",
        "colab_type": "code",
        "colab": {}
      },
      "source": [
        "ETA = 0.0025\n",
        "X_coord = X_train[1:3, :] # (2, N), stack of N training column vectors\n",
        "inputs_train = X_coord.T\n",
        "adaline = Net()\n",
        "optimizer = optim.SGD(adaline.parameters(), lr=ETA, momentum=0.3)"
      ],
      "execution_count": 0,
      "outputs": []
    },
    {
      "cell_type": "markdown",
      "metadata": {
        "id": "0TeUGH8_WnXC",
        "colab_type": "text"
      },
      "source": [
        "Train the model"
      ]
    },
    {
      "cell_type": "code",
      "metadata": {
        "id": "4FwQozISWFRs",
        "colab_type": "code",
        "outputId": "deeb576a-bf9d-4218-dce0-5b857282dc03",
        "colab": {
          "base_uri": "https://localhost:8080/",
          "height": 349
        }
      },
      "source": [
        "NUM_ITERATIONS = 200\n",
        "updates = 0\n",
        "for epoch in range(NUM_ITERATIONS):\n",
        "    for i, coord in enumerate(inputs_train):\n",
        "        datapoint = Variable(torch.FloatTensor([coord]), requires_grad=True)\n",
        "        label = Variable(torch.FloatTensor([y_train[i]]), requires_grad=False)\n",
        "        optimizer.zero_grad()\n",
        "        out = adaline(datapoint)\n",
        "        loss = mse(out, label)\n",
        "        loss.backward()\n",
        "        optimizer.step()\n",
        "        updates += 1\n",
        "    if epoch % (NUM_ITERATIONS / 10) == 0:\n",
        "        print(f'Epoch {epoch}, loss = {loss.data[0].item():2.5f}')\n",
        "print(f'Epoch {epoch + 1}, loss = {loss.data[0].item():2.5f}')\n",
        "print(f'Total updates = {updates}')\n",
        "print(f'Parameter values = {list(adaline.parameters())}')"
      ],
      "execution_count": 0,
      "outputs": [
        {
          "output_type": "stream",
          "text": [
            "Epoch 0, loss = 1.16864\n",
            "Epoch 20, loss = 1.09801\n",
            "Epoch 40, loss = 0.16440\n",
            "Epoch 60, loss = 0.01470\n",
            "Epoch 80, loss = 0.00374\n",
            "Epoch 100, loss = 0.00148\n",
            "Epoch 120, loss = 0.00074\n",
            "Epoch 140, loss = 0.00043\n",
            "Epoch 160, loss = 0.00028\n",
            "Epoch 180, loss = 0.00020\n",
            "Epoch 200, loss = 0.00015\n",
            "Total updates = 50000\n",
            "Parameter values = [Parameter containing:\n",
            "tensor([[ 2.8656, -2.8921],\n",
            "        [ 2.8957, -2.7122]], requires_grad=True), Parameter containing:\n",
            "tensor([ 0.8634, -1.6708], requires_grad=True), Parameter containing:\n",
            "tensor([[-2.9604,  3.5561]], requires_grad=True), Parameter containing:\n",
            "tensor([2.6135], requires_grad=True)]\n"
          ],
          "name": "stdout"
        }
      ]
    },
    {
      "cell_type": "code",
      "metadata": {
        "id": "svmFXEyEWPb-",
        "colab_type": "code",
        "outputId": "76662c28-b75b-4ce7-9be6-7e01e09615ee",
        "colab": {
          "base_uri": "https://localhost:8080/",
          "height": 128
        }
      },
      "source": [
        "weights = adaline.fc1.weight.detach().numpy()\n",
        "bias = adaline.fc1.bias.detach().numpy()\n",
        "learned_w = np.append(bias, weights).reshape(3,2)\n",
        "print(f'Adaline learned the weights\\n {learned_w}')\n",
        "print_perf(adaline, inputs_train, y_train)"
      ],
      "execution_count": 0,
      "outputs": [
        {
          "output_type": "stream",
          "text": [
            "Adaline learned the weights\n",
            " [[ 0.86337847 -1.6707793 ]\n",
            " [ 2.8655713  -2.8920937 ]\n",
            " [ 2.895709   -2.7121668 ]]\n",
            "num_correct: 242   num_total: 250\n",
            "Accuracy =  96.80%, error =  3.20%\n"
          ],
          "name": "stdout"
        }
      ]
    },
    {
      "cell_type": "markdown",
      "metadata": {
        "id": "Oou26d9J9jh2",
        "colab_type": "text"
      },
      "source": [
        "Parse and analyze the test data set"
      ]
    },
    {
      "cell_type": "code",
      "metadata": {
        "id": "IE_GXbMoOHp5",
        "colab_type": "code",
        "outputId": "91288087-ccab-44ae-8598-215e2da762f0",
        "colab": {
          "base_uri": "https://localhost:8080/",
          "height": 54
        }
      },
      "source": [
        "# Set up empty vectors for capturing data from train.dat\n",
        "x0_test = []\n",
        "x1_test = []\n",
        "y_test = []\n",
        "\n",
        "# Open the mapped Google drive and parse the training data\n",
        "#with open('test.dat', 'r') as f:\n",
        "with open('train.dat', 'r') as f:\n",
        "    data = f.readlines()\n",
        "    for N, i in enumerate(data):\n",
        "        row = i.rstrip().lstrip().split(\",\")\n",
        "        for j in row:\n",
        "            num = j.rstrip().lstrip().split(\"  \")\n",
        "            x0_test.append(float(num[0]))\n",
        "            x1_test.append(float(num[1]))\n",
        "            y_test.append(float(num[2]))\n",
        "\n",
        "N += 1 # Adjust for the offset starting at 0\n",
        "\n",
        "# Join the x inputs into a matrix\n",
        "X_test = np.vstack((x0_test, x1_test))\n",
        "X_test = np.vstack((np.ones((1, N)), X_test))  # N points of (d + 1) dimensions, with 1st dim = 1.\n",
        "\n",
        "# Convert to numpy arrays\n",
        "y_test = np.asarray(y_test).reshape(N, 1)\n",
        "X_coord = X_test[1:3, :] # (2, N), stack of N test column vectors\n",
        "inputs_test = X_coord.T\n",
        "print_perf(adaline, inputs_test, y_test)"
      ],
      "execution_count": 0,
      "outputs": [
        {
          "output_type": "stream",
          "text": [
            "num_correct: 25   num_total: 25\n",
            "Accuracy =  100.00%, error =  0.00%\n"
          ],
          "name": "stdout"
        }
      ]
    }
  ]
}